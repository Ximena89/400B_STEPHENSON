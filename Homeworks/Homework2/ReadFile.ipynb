{
 "cells": [
  {
   "cell_type": "code",
   "execution_count": 1,
   "metadata": {},
   "outputs": [],
   "source": [
    "import numpy as np\n",
    "import astropy.units as u"
   ]
  },
  {
   "cell_type": "code",
   "execution_count": 5,
   "metadata": {},
   "outputs": [],
   "source": [
    "def Read(filename):\n",
    "    \n",
    "    \n",
    "    file = open(filename, 'r')\n",
    "    \n",
    "    line1 = file.readline() #reads first line which is time\n",
    "    label, value = line1.split()\n",
    "    time = float(value) * u.Myr #changes to units of  10 Myear\n",
    "    \n",
    "    line2 = file.readline() #read second line which is number of particles\n",
    "    label, value2 = line2.split()\n",
    "    particles = float(value2)\n",
    "   \n",
    "    \n",
    "    file.close()\n",
    "    \n",
    "    data = np.genfromtxt(filename, dtype= None, names=True, skip_header=3)\n",
    "\n",
    "    \n",
    "    return time, particles, data\n",
    "\n",
    "   "
   ]
  },
  {
   "cell_type": "code",
   "execution_count": 8,
   "metadata": {},
   "outputs": [],
   "source": [
    "time, particles, data = Read('MW000_copy.txt')"
   ]
  },
  {
   "cell_type": "code",
   "execution_count": 12,
   "metadata": {},
   "outputs": [
    {
     "name": "stdout",
     "output_type": "stream",
     "text": [
      "50.2658\n"
     ]
    }
   ],
   "source": [
    "print(data['vx'][1])"
   ]
  },
  {
   "cell_type": "code",
   "execution_count": null,
   "metadata": {},
   "outputs": [],
   "source": []
  }
 ],
 "metadata": {
  "kernelspec": {
   "display_name": "Python 3",
   "language": "python",
   "name": "python3"
  },
  "language_info": {
   "codemirror_mode": {
    "name": "ipython",
    "version": 3
   },
   "file_extension": ".py",
   "mimetype": "text/x-python",
   "name": "python",
   "nbconvert_exporter": "python",
   "pygments_lexer": "ipython3",
   "version": "3.6.6"
  }
 },
 "nbformat": 4,
 "nbformat_minor": 2
}

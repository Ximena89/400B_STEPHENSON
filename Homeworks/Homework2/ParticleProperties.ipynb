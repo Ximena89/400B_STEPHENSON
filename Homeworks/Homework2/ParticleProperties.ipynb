{
 "cells": [
  {
   "cell_type": "code",
   "execution_count": 12,
   "metadata": {},
   "outputs": [],
   "source": [
    "import numpy as np\n",
    "import astropy.units as u\n",
    "from ReadFile import Read"
   ]
  },
  {
   "cell_type": "code",
   "execution_count": 13,
   "metadata": {},
   "outputs": [],
   "source": [
    "def ParticleInfo(namefile, ptype, pnumber):\n",
    "    #type of particle can be 1,2 or 3.\n",
    "    #1=DM, 2=Disk, 3=Bulge\n",
    "    \n",
    "    n = pnumber #desired particle\n",
    "    \n",
    "    if ptype == 1: #choosing dark matter particle\n",
    "        dm = np.where(data['type'] == 1)\n",
    "        \n",
    "        \n",
    "    elif ptype == 2: #choosing dik particle\n",
    "        disk = np.where(data['type'] == 2)\n",
    "        \n",
    "       \n",
    "    elif ptype == 3: #choosing bulge particle\n",
    "        bulge = np.where(data['type'] == 3)\n",
    "        \n",
    "    else:\n",
    "        print (\"invalid input\")\n",
    "    \n",
    "    #this function needs to return:\n",
    "    #magnitude of distance. File is already in units of kpc\n",
    "    #magnitude of velocity. Already in units of km/s\n",
    "    #mass in units of solar masses. File has units of 1e10\n",
    "    #[ptype] should narrow down the data to only the values of the dedired type of particle\n",
    "    \n",
    "    x = data['x'][ptype] * u.kpc #units of kpc position of stars in the x-direction\n",
    "    y = data['y'][ptype] * u.kpc #position of particles in the x-direction\n",
    "    z = data['z'][ptype] * u.kpc #position of particles in the x-direction\n",
    "    \n",
    "    vx = data['vx'][ptype] * u.km/u.s  #units of km/s velocity component in x direction\n",
    "    vy = data['vy'][ptype] * u.km/u.s #velocity component in y direction\n",
    "    vz = data['vz'][ptype] * u.km/u.s #velocity component in z direction\n",
    "    \n",
    "    distance = np.sqrt(x**2 + y**2 + z**2) #magnitude of distance of the stars\n",
    "    \n",
    "    velocity = np.sqrt(vx**2 + vy**2 + vz**2)#magnitude of the velociy of the stars\n",
    "    \n",
    "    vel = np.around(velocity,3) #rounding the velocity to only 3 decimal\n",
    "    \n",
    "    mass = data['m'][n]* u.M_sun #units of solar mass. [n]should give back the mass of the given particle\n",
    "    \n",
    "    return mass, distance, velocity\n",
    "     "
   ]
  },
  {
   "cell_type": "code",
   "execution_count": null,
   "metadata": {},
   "outputs": [],
   "source": []
  },
  {
   "cell_type": "code",
   "execution_count": null,
   "metadata": {},
   "outputs": [],
   "source": []
  }
 ],
 "metadata": {
  "kernelspec": {
   "display_name": "Python 3",
   "language": "python",
   "name": "python3"
  },
  "language_info": {
   "codemirror_mode": {
    "name": "ipython",
    "version": 3
   },
   "file_extension": ".py",
   "mimetype": "text/x-python",
   "name": "python",
   "nbconvert_exporter": "python",
   "pygments_lexer": "ipython3",
   "version": "3.6.6"
  }
 },
 "nbformat": 4,
 "nbformat_minor": 2
}

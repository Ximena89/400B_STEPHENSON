{
 "cells": [
  {
   "cell_type": "code",
   "execution_count": 70,
   "metadata": {},
   "outputs": [],
   "source": [
    "import numpy as np\n",
    "import astropy.units as u\n",
    "from ReadFile import Read"
   ]
  },
  {
   "cell_type": "code",
   "execution_count": 122,
   "metadata": {},
   "outputs": [],
   "source": [
    "# This function should return the properties of any given particle\n",
    "# The data comes from the text file MW000_copy.txt that is used in the previous\n",
    "# program ReadFile\n",
    "# Type of particle can be 1,2 or 3.\n",
    "# 1=DM, 2=Disk, 3=Bulge\n",
    "\n",
    "def ParticleInfo(filename, ptype, pnumber):\n",
    "    # Inputs:\n",
    "    # The fata file, the particle type, and the number of particle we want to know\n",
    "    # this function needs to return:\n",
    "    # magnitude of distance. File is already in units of kpc\n",
    "    # magnitude of velocity. Already in units of km/s\n",
    "    # mass in units of solar masses. File has units of 1e10\n",
    "    \n",
    "    # This line calls the a function from our imported file\n",
    "    time, particles, data = Read('MW000_copy.txt')\n",
    "    \n",
    "    # We create an index of the type of particle we want. But this gives back an array of particles \n",
    "    index = np.where(data['type'] == ptype)\n",
    "    \n",
    "    # Once we have narrowed down the partcile type we need the number of particle from that type\n",
    "    n = pnumber\n",
    "    \n",
    "    # we need the x y and z components of both the velocity and the distance.\n",
    "    # First we exctract them from the data, and narrow down to one value with index and n \n",
    "    \n",
    "    x = data['x'][index][n] * u.kpc #units of kpc position of stars in the x-direction\n",
    "    y = data['y'][index][n] * u.kpc #position of particles in the x-direction\n",
    "    z = data['z'][index][n] * u.kpc #position of particles in the x-direction\n",
    "    \n",
    "    vx = data['vx'][index][n] * u.km/u.s  #units of km/s velocity component in x direction\n",
    "    vy = data['vy'][index][n] * u.km/u.s #velocity component in y direction\n",
    "    vz = data['vz'][index][n] * u.km/u.s #velocity component in z direction\n",
    "    \n",
    "    # We need to compute the magnitude of the distance and the magnitude of the velocity by taking the \n",
    "    # square root of the sum of the square of the components\n",
    "    \n",
    "    distance = np.sqrt(x**2 + y**2 + z**2) #magnitude of distance of the stars\n",
    "    \n",
    "    dis = np.around(distance,3) #rounding the distance to only 3 decimal\n",
    "    \n",
    "    velocity = np.sqrt(vx**2 + vy**2 + vz**2)#magnitude of the velociy of the stars\n",
    "    \n",
    "    vel = np.around(velocity,3) #rounding the velocity to only 3 decimal\n",
    "    \n",
    "    mass = data['m'][n] * u.M_sun * 1e10 #units of solar mass. [n]should give back the mass of the given particle\n",
    "    \n",
    "    return mass, dis, vel\n",
    "     "
   ]
  },
  {
   "cell_type": "code",
   "execution_count": 123,
   "metadata": {},
   "outputs": [
    {
     "name": "stdout",
     "output_type": "stream",
     "text": [
      "(<Quantity 39498500.00000001 solMass>, <Quantity 4.245 kpc>, <Quantity 312.135 km / s>)\n"
     ]
    }
   ],
   "source": [
    "# This returns the mass, distance and velocity of the 100th type 2 particle (disk star)\n",
    "\n",
    "print(ParticleInfo('MW000_copy.txt', 2, 99))"
   ]
  },
  {
   "cell_type": "code",
   "execution_count": 125,
   "metadata": {},
   "outputs": [],
   "source": [
    "# If we want to change the distance from kpc to lightyears we just convert with astropy\n",
    "\n",
    "mass, dis, vel = ParticleInfo('MW000_copy.txt', 2, 99)\n",
    "\n",
    "new_distance = dis.to(u.lightyear)"
   ]
  },
  {
   "cell_type": "code",
   "execution_count": 117,
   "metadata": {},
   "outputs": [
    {
     "name": "stdout",
     "output_type": "stream",
     "text": [
      "13844.842053597764 lyr\n"
     ]
    }
   ],
   "source": [
    "#distance of the 100th type 2 particle  in lightyears\n",
    "print(new_distance)"
   ]
  },
  {
   "cell_type": "code",
   "execution_count": null,
   "metadata": {},
   "outputs": [],
   "source": []
  }
 ],
 "metadata": {
  "kernelspec": {
   "display_name": "Python 3",
   "language": "python",
   "name": "python3"
  },
  "language_info": {
   "codemirror_mode": {
    "name": "ipython",
    "version": 3
   },
   "file_extension": ".py",
   "mimetype": "text/x-python",
   "name": "python",
   "nbconvert_exporter": "python",
   "pygments_lexer": "ipython3",
   "version": "3.6.6"
  }
 },
 "nbformat": 4,
 "nbformat_minor": 2
}

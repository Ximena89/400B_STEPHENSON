{
 "cells": [
  {
   "cell_type": "code",
   "execution_count": 31,
   "metadata": {},
   "outputs": [],
   "source": [
    "# import modules\n",
    "import numpy as np\n",
    "import astropy.units as u\n",
    "import astropy.table as tbl\n",
    "from ReadFile import Read\n",
    "import CenterofMass\n"
   ]
  },
  {
   "cell_type": "code",
   "execution_count": 41,
   "metadata": {},
   "outputs": [],
   "source": [
    "class MassProfile:\n",
    "# Class to define mass profile of a given galaxy at SnapNumber 0 to determine each \n",
    "# falaxy's rotation curve\n",
    "    \n",
    "    \n",
    "    def __init__(self, galaxy, Snap):\n",
    "    # Initialize the instance of this Class with the following properties:\n",
    "    # galaxy and Snapshot\n",
    "    \n",
    "        # inputs to recontruct the filenumber to the value \"000\"\n",
    "        ilbl = '000' + str(Snap)\n",
    "        # remove all but the last 3 digits\n",
    "        ilbl = ilbl[-3:]\n",
    "        self.filename = \"%s_\"%(galaxy) + ilbl + '.txt'\n",
    "        \n",
    "        \n",
    "        # read data in the given file using Read\n",
    "        self.time, self.total, self.data = Read(self.filename) \n",
    "        \n",
    "        self.gname = galaxy\n",
    "        \n",
    "      \n",
    "        \n",
    "        #read data for x,y,z positions and mass with correct units\n",
    "        \n",
    "        self.m = self.data['m']\n",
    "       \n",
    "        #Positions\n",
    "        self.x = self.data['x'] * u.kpc\n",
    "        self.y = self.data['y'] * u.kpc\n",
    "        self.z = self.data['z'] * u.kpc\n",
    "        \n",
    "        # Store the name of the galaxy as a global property\n",
    "        self.gname = galaxy\n",
    "        \n",
    "        # Function that computer the mass enclosed within a given radius of the COM position\n",
    "        # for a specified galaxy an a specified component of that galaxy\n",
    "        \n",
    "    def MassEnclosed(self, ptype, r):\n",
    "        # Inputs: particle type and radii array in kpc\n",
    "        # Returns:  mass array in units of Msun\n",
    "        \n",
    "        # Reading particle type\n",
    "        self.index = np.where(self.data['type'] == ptype)\n",
    "        \n",
    "        # CenterofMass object \n",
    "        COM = Read(CenterofMass(galaxy, ptype))\n",
    "            \n",
    "        # Indexing positions with particle type\n",
    "        xpos= self.x[self.index]\n",
    "        ypos= self.y[self.index]\n",
    "        zpos= self.z[self.index]\n",
    "\n",
    "        # Computing the radius\n",
    "        radius = np.sqrt(xpos**2 + ypos**2 + zpos**2)\n",
    "            \n",
    "        #returns the mass withing the given radius\n",
    "        mass_rcut = self.mass[rindex] \n",
    "            \n",
    "        return mass_rcut\n",
    "            \n",
    "        \n",
    "        \n",
    "        \n",
    "        \n",
    "        "
   ]
  },
  {
   "cell_type": "code",
   "execution_count": 42,
   "metadata": {},
   "outputs": [],
   "source": [
    "MWMP = MassProfile(\"MW\", 0)"
   ]
  },
  {
   "cell_type": "code",
   "execution_count": 43,
   "metadata": {},
   "outputs": [
    {
     "ename": "TypeError",
     "evalue": "expected str, bytes or os.PathLike object, not module",
     "output_type": "error",
     "traceback": [
      "\u001b[0;31m---------------------------------------------------------------------------\u001b[0m",
      "\u001b[0;31mTypeError\u001b[0m                                 Traceback (most recent call last)",
      "\u001b[0;32m<ipython-input-43-dbfe022d18ab>\u001b[0m in \u001b[0;36m<module>\u001b[0;34m()\u001b[0m\n\u001b[0;32m----> 1\u001b[0;31m \u001b[0mMW_M_ENC\u001b[0m \u001b[0;34m=\u001b[0m \u001b[0mMWMP\u001b[0m\u001b[0;34m.\u001b[0m\u001b[0mMassEnclosed\u001b[0m\u001b[0;34m(\u001b[0m\u001b[0;36m1\u001b[0m\u001b[0;34m,\u001b[0m\u001b[0;36m1\u001b[0m \u001b[0;34m)\u001b[0m\u001b[0;34m\u001b[0m\u001b[0m\n\u001b[0m",
      "\u001b[0;32m<ipython-input-41-44fe374b5f5d>\u001b[0m in \u001b[0;36mMassEnclosed\u001b[0;34m(self, ptype, r)\u001b[0m\n\u001b[1;32m     44\u001b[0m         \u001b[0mself\u001b[0m\u001b[0;34m.\u001b[0m\u001b[0mindex\u001b[0m \u001b[0;34m=\u001b[0m \u001b[0mnp\u001b[0m\u001b[0;34m.\u001b[0m\u001b[0mwhere\u001b[0m\u001b[0;34m(\u001b[0m\u001b[0mself\u001b[0m\u001b[0;34m.\u001b[0m\u001b[0mdata\u001b[0m\u001b[0;34m[\u001b[0m\u001b[0;34m'type'\u001b[0m\u001b[0;34m]\u001b[0m \u001b[0;34m==\u001b[0m \u001b[0mptype\u001b[0m\u001b[0;34m)\u001b[0m\u001b[0;34m\u001b[0m\u001b[0m\n\u001b[1;32m     45\u001b[0m \u001b[0;34m\u001b[0m\u001b[0m\n\u001b[0;32m---> 46\u001b[0;31m         \u001b[0mCOM\u001b[0m \u001b[0;34m=\u001b[0m \u001b[0mRead\u001b[0m\u001b[0;34m(\u001b[0m\u001b[0mCenterofMass\u001b[0m\u001b[0;34m)\u001b[0m\u001b[0;34m\u001b[0m\u001b[0m\n\u001b[0m\u001b[1;32m     47\u001b[0m \u001b[0;34m\u001b[0m\u001b[0m\n\u001b[1;32m     48\u001b[0m         \u001b[0;31m# Indexing positions with particle type\u001b[0m\u001b[0;34m\u001b[0m\u001b[0;34m\u001b[0m\u001b[0m\n",
      "\u001b[0;32m~/Documents/400B_STEPHENSON/Homeworks/Homework5/ReadFile.py\u001b[0m in \u001b[0;36mRead\u001b[0;34m(filename)\u001b[0m\n\u001b[1;32m     16\u001b[0m     \u001b[0;31m#defining the function that takes the file as input\u001b[0m\u001b[0;34m\u001b[0m\u001b[0;34m\u001b[0m\u001b[0m\n\u001b[1;32m     17\u001b[0m \u001b[0;34m\u001b[0m\u001b[0m\n\u001b[0;32m---> 18\u001b[0;31m     \u001b[0mfile\u001b[0m \u001b[0;34m=\u001b[0m \u001b[0mopen\u001b[0m\u001b[0;34m(\u001b[0m\u001b[0mfilename\u001b[0m\u001b[0;34m,\u001b[0m \u001b[0;34m'r'\u001b[0m\u001b[0;34m)\u001b[0m\u001b[0;34m\u001b[0m\u001b[0m\n\u001b[0m\u001b[1;32m     19\u001b[0m \u001b[0;34m\u001b[0m\u001b[0m\n\u001b[1;32m     20\u001b[0m     \u001b[0mline1\u001b[0m \u001b[0;34m=\u001b[0m \u001b[0mfile\u001b[0m\u001b[0;34m.\u001b[0m\u001b[0mreadline\u001b[0m\u001b[0;34m(\u001b[0m\u001b[0;34m)\u001b[0m \u001b[0;31m#reads first line which is time\u001b[0m\u001b[0;34m\u001b[0m\u001b[0m\n",
      "\u001b[0;31mTypeError\u001b[0m: expected str, bytes or os.PathLike object, not module"
     ]
    }
   ],
   "source": [
    "MW_M_ENC = MWMP.MassEnclosed(1,1 )"
   ]
  },
  {
   "cell_type": "code",
   "execution_count": null,
   "metadata": {},
   "outputs": [],
   "source": [
    "print(MW_M_ENC)"
   ]
  },
  {
   "cell_type": "code",
   "execution_count": null,
   "metadata": {},
   "outputs": [],
   "source": []
  }
 ],
 "metadata": {
  "kernelspec": {
   "display_name": "Python 3",
   "language": "python",
   "name": "python3"
  },
  "language_info": {
   "codemirror_mode": {
    "name": "ipython",
    "version": 3
   },
   "file_extension": ".py",
   "mimetype": "text/x-python",
   "name": "python",
   "nbconvert_exporter": "python",
   "pygments_lexer": "ipython3",
   "version": "3.6.6"
  }
 },
 "nbformat": 4,
 "nbformat_minor": 2
}

{
 "cells": [
  {
   "cell_type": "code",
   "execution_count": 1,
   "metadata": {},
   "outputs": [],
   "source": [
    "import numpy as np\n",
    "import astropy.units as u\n",
    "from ReadFile import Read\n",
    "import pandas as pd"
   ]
  },
  {
   "cell_type": "code",
   "execution_count": 2,
   "metadata": {},
   "outputs": [],
   "source": [
    "# This function needs to return the total mass of any desired galaxy component\n",
    "# Data comes from thre different files: MW000.txt, M31_000.txt, and M33_000.txt\n",
    "# Type of particle can be 1,2 or 3.\n",
    "# 1=DM, 2=Disk, 3=Bulge\n",
    "\n",
    "def ComponentMass(filename, ptype):\n",
    "    # Inputs:\n",
    "    #        are the files (galaxy)  \n",
    "    #        and the particle type \n",
    "    # Returns:\n",
    "    #        the total mass of each galaxy component (ptype) that we want in unit of 10e12 Msun      \n",
    "    \n",
    "    \n",
    "    #This calls for the data from the ReadFile\n",
    "    #data = np.genfromtxt(filename, dtype= None, names=True, skip_header=3)\n",
    "    time, total, data = Read(filename)\n",
    "    \n",
    "    # We create an index of the type of particle we want.\n",
    "    index = np.where(data['type'] == ptype)\n",
    "    \n",
    "    # From here we extract the mass from the data and index it to the the particle type that we want\n",
    "    mass = data['m'][index] * u.M_sun / 100\n",
    "    \n",
    "    # We sum all the partciles for each type and round three decimal places\n",
    "    massround = np.around(sum(mass), decimals=3)\n",
    "    \n",
    "    return massround\n",
    "    "
   ]
  },
  {
   "cell_type": "code",
   "execution_count": 3,
   "metadata": {},
   "outputs": [],
   "source": [
    "# This is the mass of the Milky Way components and the total mass\n",
    "\n",
    "# DM mass\n",
    "dm_MW = ComponentMass('MW_000.txt', 1)\n",
    "# Disk mass\n",
    "disk_MW = ComponentMass('MW_000.txt', 2)\n",
    "# Bulge mass\n",
    "bulge_MW = ComponentMass('MW_000.txt', 3)\n",
    "# Total mass\n",
    "tot_MW = dm_MW + disk_MW + bulge_MW\n",
    "# Total stellar mass\n",
    "stel_MW = disk_MW + bulge_MW\n",
    "# Baryon fraction\n",
    "fbar_MW = stel_MW / tot_MW\n"
   ]
  },
  {
   "cell_type": "code",
   "execution_count": 4,
   "metadata": {},
   "outputs": [],
   "source": [
    "# This is the mass of M31 components and the total mass\n",
    "\n",
    "# DM mass\n",
    "dm_M31 = ComponentMass('M31_000.txt', 1)\n",
    "# Disk mass\n",
    "disk_M31 = ComponentMass('M31_000.txt', 2)\n",
    "# Bulge mass\n",
    "bulge_M31 = ComponentMass('M31_000.txt', 3)\n",
    "# Total mass\n",
    "tot_M31 = dm_M31 + disk_M31 + bulge_M31\n",
    "# Total stellar mass\n",
    "stel_M31 = disk_M31 + bulge_M31\n",
    "# Baryon fraction\n",
    "fbar_M31 = stel_M31 / tot_M31"
   ]
  },
  {
   "cell_type": "code",
   "execution_count": 5,
   "metadata": {},
   "outputs": [],
   "source": [
    "# This is the mass of M33 components and the total mass\n",
    "\n",
    "# DM mass\n",
    "dm_M33 = ComponentMass('M33_000.txt', 1)\n",
    "# Disk mass\n",
    "disk_M33 = ComponentMass('M33_000.txt', 2)\n",
    "# Bulge mass\n",
    "bulge_M33 = ComponentMass('M33_000.txt', 3)\n",
    "# Total mass\n",
    "tot_M33 = dm_M33 + disk_M33 + bulge_M33\n",
    "# Total stellar mass\n",
    "stel_M33 = disk_M33 + bulge_M33\n",
    "# Baryon fraction\n",
    "fbar_M33 = stel_M33 / tot_M33"
   ]
  },
  {
   "cell_type": "code",
   "execution_count": 6,
   "metadata": {},
   "outputs": [],
   "source": [
    "totgroup = tot_MW + tot_M31 + tot_M33\n",
    "fbar_group = (stel_MW + stel_M31 + stel_M33)/ totgroup "
   ]
  },
  {
   "cell_type": "code",
   "execution_count": 7,
   "metadata": {},
   "outputs": [],
   "source": [
    "table = pd.DataFrame()\n",
    "\n",
    "name = ['MW', 'M31', 'M33', 'Local Group']\n",
    "diskmass = [disk_MW, disk_M31, disk_M33, '']\n",
    "bulgemass = [bulge_MW, bulge_M31, bulge_M33, '']\n",
    "dmmass = [dm_MW, dm_M31, dm_M33, '']\n",
    "totmass = [tot_MW, tot_M31, tot_M33, totgroup]\n",
    "fbar = [fbar_MW, fbar_M31, fbar_M33, fbar_group]\n",
    "\n",
    "table['Galaxy name'] = name \n",
    "table['Halo Mass ($10^{12} M_{\\odot}$)'] = dmmass\n",
    "table['Disk Mass ($10^{12} M_{\\odot}$)'] = diskmass\n",
    "table['Bulge Mass ($10^{12} M_{\\odot}$)'] = bulgemass\n",
    "table['Total Mass ($10^{12} M_{\\odot}$)'] = totmass\n",
    "table['Bayron Fraction'] = fbar\n",
    "\n"
   ]
  },
  {
   "cell_type": "code",
   "execution_count": 8,
   "metadata": {},
   "outputs": [
    {
     "data": {
      "text/html": [
       "<div>\n",
       "<style scoped>\n",
       "    .dataframe tbody tr th:only-of-type {\n",
       "        vertical-align: middle;\n",
       "    }\n",
       "\n",
       "    .dataframe tbody tr th {\n",
       "        vertical-align: top;\n",
       "    }\n",
       "\n",
       "    .dataframe thead th {\n",
       "        text-align: right;\n",
       "    }\n",
       "</style>\n",
       "<table border=\"1\" class=\"dataframe\">\n",
       "  <thead>\n",
       "    <tr style=\"text-align: right;\">\n",
       "      <th></th>\n",
       "      <th>Galaxy name</th>\n",
       "      <th>Halo Mass ($10^{12} M_{\\odot}$)</th>\n",
       "      <th>Disk Mass ($10^{12} M_{\\odot}$)</th>\n",
       "      <th>Bulge Mass ($10^{12} M_{\\odot}$)</th>\n",
       "      <th>Total Mass ($10^{12} M_{\\odot}$)</th>\n",
       "      <th>Bayron Fraction</th>\n",
       "    </tr>\n",
       "  </thead>\n",
       "  <tbody>\n",
       "    <tr>\n",
       "      <th>0</th>\n",
       "      <td>MW</td>\n",
       "      <td>1.975 solMass</td>\n",
       "      <td>0.075 solMass</td>\n",
       "      <td>0.01 solMass</td>\n",
       "      <td>2.06 solMass</td>\n",
       "      <td>0.04126213592233009</td>\n",
       "    </tr>\n",
       "    <tr>\n",
       "      <th>1</th>\n",
       "      <td>M31</td>\n",
       "      <td>1.921 solMass</td>\n",
       "      <td>0.12 solMass</td>\n",
       "      <td>0.019 solMass</td>\n",
       "      <td>2.06 solMass</td>\n",
       "      <td>0.0674757281553398</td>\n",
       "    </tr>\n",
       "    <tr>\n",
       "      <th>2</th>\n",
       "      <td>M33</td>\n",
       "      <td>0.187 solMass</td>\n",
       "      <td>0.009 solMass</td>\n",
       "      <td>0</td>\n",
       "      <td>0.196 solMass</td>\n",
       "      <td>0.04591836734693877</td>\n",
       "    </tr>\n",
       "    <tr>\n",
       "      <th>3</th>\n",
       "      <td>Local Group</td>\n",
       "      <td></td>\n",
       "      <td></td>\n",
       "      <td></td>\n",
       "      <td>4.316 solMass</td>\n",
       "      <td>0.053985171455050975</td>\n",
       "    </tr>\n",
       "  </tbody>\n",
       "</table>\n",
       "</div>"
      ],
      "text/plain": [
       "   Galaxy name Halo Mass ($10^{12} M_{\\odot}$)  \\\n",
       "0           MW                   1.975 solMass   \n",
       "1          M31                   1.921 solMass   \n",
       "2          M33                   0.187 solMass   \n",
       "3  Local Group                                   \n",
       "\n",
       "  Disk Mass ($10^{12} M_{\\odot}$) Bulge Mass ($10^{12} M_{\\odot}$)  \\\n",
       "0                   0.075 solMass                     0.01 solMass   \n",
       "1                    0.12 solMass                    0.019 solMass   \n",
       "2                   0.009 solMass                                0   \n",
       "3                                                                    \n",
       "\n",
       "  Total Mass ($10^{12} M_{\\odot}$)       Bayron Fraction  \n",
       "0                     2.06 solMass   0.04126213592233009  \n",
       "1                     2.06 solMass    0.0674757281553398  \n",
       "2                    0.196 solMass   0.04591836734693877  \n",
       "3                    4.316 solMass  0.053985171455050975  "
      ]
     },
     "execution_count": 8,
     "metadata": {},
     "output_type": "execute_result"
    }
   ],
   "source": [
    "table"
   ]
  },
  {
   "cell_type": "markdown",
   "metadata": {},
   "source": [
    "1.- The mass of MW and M31 are very similar in this simulation. They are almost identical, so they both dominate the total mass.\n",
    "\n",
    "2.- The stellar mass of M31 is actually bigger than that of MW. Therefore I would think M31 is more luminous that MW.\n",
    "\n",
    "3.- The total dark matter of MW is about the same for M31. The ratio  MW/M31~1.03. It is  a little bit surprising that even though MW has about the same total dark matter, M31 has a stellar mass ~1.6 MW\n",
    "\n",
    "4.- The baryon fraction for each galaxy is about ~4%-6% with the local group having ~5% of baryon mass vs dark matter. Is is much smaller that the universal baryon fraction. Maybe this ratio is much smaller for this galaxies because they’ve been expelling material through AGN and SN feedback. Maybe also by interacting with nearby satellite galaxies that might pull material out of them."
   ]
  },
  {
   "cell_type": "code",
   "execution_count": null,
   "metadata": {},
   "outputs": [],
   "source": []
  },
  {
   "cell_type": "code",
   "execution_count": null,
   "metadata": {},
   "outputs": [],
   "source": []
  }
 ],
 "metadata": {
  "kernelspec": {
   "display_name": "Python 3",
   "language": "python",
   "name": "python3"
  },
  "language_info": {
   "codemirror_mode": {
    "name": "ipython",
    "version": 3
   },
   "file_extension": ".py",
   "mimetype": "text/x-python",
   "name": "python",
   "nbconvert_exporter": "python",
   "pygments_lexer": "ipython3",
   "version": "3.6.6"
  }
 },
 "nbformat": 4,
 "nbformat_minor": 2
}

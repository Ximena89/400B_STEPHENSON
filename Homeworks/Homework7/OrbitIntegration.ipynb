{
 "cells": [
  {
   "cell_type": "code",
   "execution_count": null,
   "metadata": {},
   "outputs": [],
   "source": [
    "# Homework 7\n",
    "# Jimena Stephenson"
   ]
  },
  {
   "cell_type": "code",
   "execution_count": null,
   "metadata": {},
   "outputs": [],
   "source": [
    "# import modules\n",
    "import numpy as np\n",
    "import astropy.units as u\n",
    "import astropy.table as tbl\n",
    "from ReadFile import Read\n",
    "from CenterofMass import CenterOfMass\n",
    "from OrbitCOM import             \"\"\"SO WHAT ARE THE UNITS OF G\"\"\"\n",
    "from astropy.constants import G\n",
    "G = G.to(u.kpc*u.km**2/u.s**2/u.Msun)\n",
    "import matplotlib\n",
    "import matplotlib.pyplot as plt\n",
    "%matplotlib inline\n"
   ]
  },
  {
   "cell_type": "code",
   "execution_count": null,
   "metadata": {},
   "outputs": [],
   "source": [
    "class M33AnalyticOrbit:\n",
    "    # Class to define a series of functions that will determine the acceleration\n",
    "    # M33 feels from M31 and integrate its current position and velocity forward in time\n",
    "    \n",
    "    def __init__(self, filename):\n",
    "        # initialize the class\n",
    "        # input:\n",
    "        #      file where the integrated orbit will be stored\n",
    "        \n",
    "        \n",
    "        #initialize the relative position and velocity of M33 to M31\n",
    "        # making an object COM from CenterofMass\n",
    "        COM = CenterOfMass(self.filename, 2)\n",
    "         \n",
    "        M31COM = COM.CenterOfMass(\"M31_000.txt\", 2)\n",
    "        M33COM = COM.CenterOfMass(\"M33_000.txt\", 2)\n",
    "        \n",
    "        # calling COM_P\n",
    "        COM_P = COM.COM_P(0.1)\n",
    "        # calling COM_V\n",
    "        COM_V = COM.COM_V(COM_P[0],COM_P[1],COM_P[2])\n",
    "        \n",
    "        # M31:   store the position and velocity COM                                                                           \n",
    "        M31_COM_P = M31COM.COM_P(0.1)\n",
    "        M31_COM_V = M31COM.COM_V(M31_COM_P[0],M31_COM_P[1],M31_COM_P[2])\n",
    "\n",
    "\n",
    "        # M33:   store the position and velocity COM                                                                           \n",
    "        M33_COM_P = M33COM.COM_P(0.1)\n",
    "        M33_COM_V = M33COM.COM_V(M33_COM_P[0],M33_COM_P[1],M33_COM_P[2])\n",
    "        \n",
    "        # Determine the relative position between M33 and M31                                                                  \n",
    "        M33_M31 = np.sqrt((M33_COM_P[0]-M31_COM_P[0])**2 + (M33_COM_P[1]-M31_COM_P[1])**2 + (M33_COM_P[2]-M31_COM_P[2])**2)\n",
    "    \n",
    "\n",
    "        # Determine the relative velocity between M33 and M31                                                                  \n",
    "        vM33_M31 = np.sqrt((M33_COM_V[0]-M31_COM_V[0])**2 + (M33_COM_V[1]-M31_COM_V[1])**2 + (M33_COM_V[2]-M31_COM_V[2])**2)\n",
    "        \n",
    "        \n",
    "        # Store the scale lengths and masses for each compponen in M31\n",
    "        self.rdisk = 5 * u.kpc\n",
    "        self.Mdisk = 0.12 * u.Msun\n",
    "        self.rbulge = 1 * u.kpc\n",
    "        self.Mbulge = 0.019 * Msun\n",
    "        self.rhalo = 61 * u.kpc\n",
    "        self.Mhalo = 1.921 * Msun\n",
    "    \n",
    "        "
   ]
  }
 ],
 "metadata": {
  "kernelspec": {
   "display_name": "Python 3",
   "language": "python",
   "name": "python3"
  },
  "language_info": {
   "codemirror_mode": {
    "name": "ipython",
    "version": 3
   },
   "file_extension": ".py",
   "mimetype": "text/x-python",
   "name": "python",
   "nbconvert_exporter": "python",
   "pygments_lexer": "ipython3",
   "version": "3.6.6"
  }
 },
 "nbformat": 4,
 "nbformat_minor": 2
}

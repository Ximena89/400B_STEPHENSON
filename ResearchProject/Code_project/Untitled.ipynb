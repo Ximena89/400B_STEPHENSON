{
 "cells": [
  {
   "cell_type": "code",
   "execution_count": null,
   "metadata": {},
   "outputs": [],
   "source": [
    "# With this code I need to be able to plot Isodensity contours of the halo of\n",
    "# MW & M31 as well as their merger remnant\n",
    "# This means I need snapshot 0 and last snapshot of the data\n",
    "# I need to rotate the angular momentum vector of the halos and align them with\n",
    "# the z-axis (Lab7)\n",
    "# Make desnity contours (Lab7)\n",
    "# Plot an ellipse centered at zero with a given major axis and axis ratios (Don't understand this) \n",
    "# overplot an ellipse, varying the axis ratio until your ellipse roughly matches a contour. Do this at a few different radii. \n",
    "# This gives me the axial ratio so that I can define “prolate, oblate or triaxial” (Slide 5 Lecture 15)\n",
    "\n"
   ]
  }
 ],
 "metadata": {
  "kernelspec": {
   "display_name": "Python 3",
   "language": "python",
   "name": "python3"
  },
  "language_info": {
   "codemirror_mode": {
    "name": "ipython",
    "version": 3
   },
   "file_extension": ".py",
   "mimetype": "text/x-python",
   "name": "python",
   "nbconvert_exporter": "python",
   "pygments_lexer": "ipython3",
   "version": "3.6.6"
  }
 },
 "nbformat": 4,
 "nbformat_minor": 2
}
